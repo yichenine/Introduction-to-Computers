{
  "nbformat": 4,
  "nbformat_minor": 0,
  "metadata": {
    "colab": {
      "provenance": [],
      "authorship_tag": "ABX9TyPpUxISJgKK400WbRiRhI0y",
      "include_colab_link": true
    },
    "kernelspec": {
      "name": "python3",
      "display_name": "Python 3"
    },
    "language_info": {
      "name": "python"
    }
  },
  "cells": [
    {
      "cell_type": "markdown",
      "metadata": {
        "id": "view-in-github",
        "colab_type": "text"
      },
      "source": [
        "<a href=\"https://colab.research.google.com/github/yichenine/Introduction-to-Computers/blob/main/0508%E8%AC%9D%E5%AE%9C%E8%BE%B0.ipynb\" target=\"_parent\"><img src=\"https://colab.research.google.com/assets/colab-badge.svg\" alt=\"Open In Colab\"/></a>"
      ]
    },
    {
      "cell_type": "code",
      "source": [
        "print(\"Hi\")"
      ],
      "metadata": {
        "colab": {
          "base_uri": "https://localhost:8080/"
        },
        "id": "Je2HwX6ltfMl",
        "outputId": "7d260f52-60e4-4bd5-8dd9-9c905ac2b9a3"
      },
      "execution_count": 1,
      "outputs": [
        {
          "output_type": "stream",
          "name": "stdout",
          "text": [
            "Hi\n"
          ]
        }
      ]
    },
    {
      "cell_type": "code",
      "source": [
        "score=int(input(\"請輸入分數:\"))\n",
        "if score >=60:\n",
        "  print(\"及格\")\n",
        "else:\n",
        "  print(\"不及格\")"
      ],
      "metadata": {
        "colab": {
          "base_uri": "https://localhost:8080/"
        },
        "id": "F8FuT-Qztjxe",
        "outputId": "e2767d10-a0bb-4a81-956d-ffd7079914c2"
      },
      "execution_count": 2,
      "outputs": [
        {
          "output_type": "stream",
          "name": "stdout",
          "text": [
            "請輸入分數:40\n",
            "不及格\n"
          ]
        }
      ]
    },
    {
      "cell_type": "code",
      "source": [
        "password = int(input(\"請輸入密碼:\"))\n",
        "if password == 1234:\n",
        "  print(\"密碼正確\")"
      ],
      "metadata": {
        "colab": {
          "base_uri": "https://localhost:8080/"
        },
        "id": "dTh9PohNt-1r",
        "outputId": "802547f8-b767-4b45-ee67-c1d1c9877616"
      },
      "execution_count": 5,
      "outputs": [
        {
          "output_type": "stream",
          "name": "stdout",
          "text": [
            "請輸入密碼:1234\n",
            "密碼正確\n"
          ]
        }
      ]
    },
    {
      "cell_type": "code",
      "source": [
        "password = int(input(\"請輸入密碼:\"))\n",
        "if password == 1234:\n",
        "  print(\"密碼正確\")\n",
        "else:\n",
        "  print(\"密碼不正確\")"
      ],
      "metadata": {
        "colab": {
          "base_uri": "https://localhost:8080/"
        },
        "id": "ir6Id335uVvX",
        "outputId": "b73756e6-0cb4-4e8a-813a-7b959bc4108c"
      },
      "execution_count": 6,
      "outputs": [
        {
          "output_type": "stream",
          "name": "stdout",
          "text": [
            "請輸入密碼:2222\n",
            "密碼不正確\n"
          ]
        }
      ]
    },
    {
      "cell_type": "code",
      "source": [
        "x = int(input(\"請輸入正整數:\"))\n",
        "if (x % 2) == 0:\n",
        "  print(\"偶數\")\n",
        "else:\n",
        "  print(\"奇數\")"
      ],
      "metadata": {
        "colab": {
          "base_uri": "https://localhost:8080/"
        },
        "id": "ILbxkPcsusct",
        "outputId": "0d4f7f8a-b02a-452f-d7c1-dfeb42142671"
      },
      "execution_count": 8,
      "outputs": [
        {
          "output_type": "stream",
          "name": "stdout",
          "text": [
            "請輸入正整數:20\n",
            "偶數\n"
          ]
        }
      ]
    }
  ]
}