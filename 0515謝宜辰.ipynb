{
  "nbformat": 4,
  "nbformat_minor": 0,
  "metadata": {
    "colab": {
      "provenance": [],
      "authorship_tag": "ABX9TyO3pGI3Iqqwr8UuHgpcS37t",
      "include_colab_link": true
    },
    "kernelspec": {
      "name": "python3",
      "display_name": "Python 3"
    },
    "language_info": {
      "name": "python"
    }
  },
  "cells": [
    {
      "cell_type": "markdown",
      "metadata": {
        "id": "view-in-github",
        "colab_type": "text"
      },
      "source": [
        "<a href=\"https://colab.research.google.com/github/yichenine/Introduction-to-Computers/blob/main/0515%E8%AC%9D%E5%AE%9C%E8%BE%B0.ipynb\" target=\"_parent\"><img src=\"https://colab.research.google.com/assets/colab-badge.svg\" alt=\"Open In Colab\"/></a>"
      ]
    },
    {
      "cell_type": "code",
      "source": [
        "score = int(input(\"score: \"))\n",
        "if score >= 90:\n",
        "  print('Grade is: A')\n",
        "elif score >= 80:\n",
        "  print('Grade is: B')\n",
        "elif score >= 70:\n",
        "  print('Grade is: C')\n",
        "elif score >= 60:\n",
        "  print('Grade is: D')\n",
        "else:\n",
        "  print('Grade is: F')"
      ],
      "metadata": {
        "colab": {
          "base_uri": "https://localhost:8080/"
        },
        "id": "5M7oUobwUdKf",
        "outputId": "08fabff3-94f6-4637-ecdd-c0cb4557bd74"
      },
      "execution_count": null,
      "outputs": [
        {
          "output_type": "stream",
          "name": "stdout",
          "text": [
            "score: 95\n",
            "Grade is: A\n"
          ]
        }
      ]
    },
    {
      "cell_type": "code",
      "source": [
        "體溫=float(input(\"請輸入體溫:\"))\n",
        "if 體溫>=37.5:\n",
        "  print(\"體溫過高!\")\n",
        "elif 體溫>=37 and 體溫<37.4:\n",
        "  print(\"體溫略高!\")\n",
        "elif 體溫>=34 and 體溫<36.9:\n",
        "  print(\"體溫正常!\")\n",
        "else:\n",
        "  print(\"體溫異常，請重新量測\")"
      ],
      "metadata": {
        "colab": {
          "base_uri": "https://localhost:8080/"
        },
        "id": "aVOx_k68qNoc",
        "outputId": "dfb947a1-d78e-4e36-f780-60af0b73f3d5"
      },
      "execution_count": 1,
      "outputs": [
        {
          "output_type": "stream",
          "name": "stdout",
          "text": [
            "起輸入體溫:40\n",
            "體溫過高!\n"
          ]
        }
      ]
    },
    {
      "cell_type": "code",
      "source": [
        "月份=int(input(\"請輸入成績:\"))\n",
        "if 月份==3 or 月份==4 or 月份==5:\n",
        "  print(月份,\"月是春天!\")\n",
        "elif 月份==6 or 月份==7 or 月份==8:\n",
        "  print(月份,\"月是夏天!\")\n",
        "elif 月份==9 or 月份==10 or 月份==11:\n",
        "  print(月份,\"月是秋天!\")\n",
        "elif 月份==12 or 月份==1 or 月份==2:\n",
        "  print(月份,\"月是冬天!\")\n",
        "else:\n",
        "  print(\"月份不在範圍內!\")"
      ],
      "metadata": {
        "colab": {
          "base_uri": "https://localhost:8080/"
        },
        "id": "GgLMCRxyrPL8",
        "outputId": "eb6e714b-911b-45a2-b076-a079ddd7276b"
      },
      "execution_count": 2,
      "outputs": [
        {
          "output_type": "stream",
          "name": "stdout",
          "text": [
            "請輸入成績:9\n",
            "9 月是秋天!\n"
          ]
        }
      ]
    },
    {
      "cell_type": "code",
      "source": [
        "收入=float(input(\"請輸入今年收入淨額:\"))\n",
        "if 收入>=2000000:\n",
        "  print(\"付稅金額\",收入*0.3,\"元\")\n",
        "elif 收入>=1000000:\n",
        "  print(\"付稅金額\",收入*0.21,\"元\")\n",
        "elif 收入>=600000:\n",
        "  print(\"付稅金額\",收入*0.13,\"元\")\n",
        "elif 收入>=300000:\n",
        "  print(\"付稅金額\",收入*0.06,\"元\")\n",
        "else:\n",
        "  print(\"付稅金額=0元\")"
      ],
      "metadata": {
        "colab": {
          "base_uri": "https://localhost:8080/"
        },
        "id": "EWIkkr20vE8S",
        "outputId": "3db29d6f-4b82-4760-e5db-d505c270116f"
      },
      "execution_count": 5,
      "outputs": [
        {
          "output_type": "stream",
          "name": "stdout",
          "text": [
            "請輸入今年收入淨額:3000000\n",
            "付稅金額 900000.0 元\n"
          ]
        }
      ]
    }
  ]
}